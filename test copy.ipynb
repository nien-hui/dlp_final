{
 "cells": [
  {
   "cell_type": "code",
   "execution_count": 49,
   "id": "02b9183a",
   "metadata": {},
   "outputs": [],
   "source": [
    "\n",
    "import numpy as np\n",
    "import torch.nn.functional as F\n",
    "import torch.optim as optim\n",
    "from deeprobust.graph.defense import GCN \n",
    "from deeprobust.graph.global_attack import DICE \n",
    "from deeprobust.graph.utils import *\n",
    "from deeprobust.graph.data import Dataset\n",
    "from deeprobust.graph.defense import GCNJaccard, GCNSVD, RGCN \n",
    "from scipy.sparse import csr_matrix\n",
    "# from deeprobust.graph.defense.noisy_gcn import Noisy_GCN\n",
    "from deeprobust.graph.defense.noisy_gcn_with_prune import Noisy_PGCN \n",
    "from torch_geometric.nn import GINConv, GATConv, GCNConv\n",
    "\n",
    "import argparse\n",
    "\n",
    "import warnings\n",
    "warnings.filterwarnings(\"ignore\")\n"
   ]
  },
  {
   "cell_type": "code",
   "execution_count": null,
   "id": "7d4511b3",
   "metadata": {},
   "outputs": [
    {
     "name": "stdout",
     "output_type": "stream",
     "text": [
      "tensor([-0.3042, -0.4692, -0.6858,  0.0013], grad_fn=<AddBackward0>)\n"
     ]
    }
   ],
   "source": [
    "import torch\n",
    "import torch.nn as nn\n",
    "\n",
    "class ConcatModel(nn.Module):\n",
    "    def __init__(self, dim1, dim2, output_dim):\n",
    "        super(ConcatModel, self).__init__()\n",
    "        # 定義兩個學習參數\n",
    "        self.param1 = nn.Parameter(torch.randn(dim1)) \n",
    "        self.param2 = nn.Parameter(torch.randn(dim2)) \n",
    "        \n",
    "        # 定義全連接層\n",
    "        self.fc = nn.Linear(dim1, output_dim) \n",
    "\n",
    "    def forward(self):\n",
    "        # 將兩個參數合併\n",
    "        # 通過全連接層\n",
    "        output = self.fc(self.param1) + self.param2\n",
    "        return output \n",
    "\n",
    "# 使用範例\n",
    "model = ConcatModel(dim1=4, dim2=4, output_dim=4) \n",
    "output = model() \n",
    "print(output) \n"
   ]
  },
  {
   "cell_type": "code",
   "execution_count": 62,
   "id": "149d9706",
   "metadata": {},
   "outputs": [],
   "source": [
    "import torch\n",
    "from torchvision.models import resnet18\n",
    "import torch_pruning as tp\n",
    "import torch\n",
    "import torch.nn as nn\n",
    "from torch_pruning.pruner.importance import GroupMagnitudeImportance\n",
    "from torch_geometric.nn import GCNConv\n",
    "from torch_pruning.pruner.function import BasePruningFunc        # 型別提示用\n",
    "\n",
    "example_inputs = []\n",
    "\n",
    "def forward_fn(model, inputs): \n",
    "    return model(*inputs)\n",
    "\n",
    "importance = GroupMagnitudeImportance(p=2, group_reduction=\"mean\", normalizer=\"mean\")\n",
    "# 2. Initialize a pruner with the model and the importance criterion\n",
    "ignored_layers = []\n",
    "for m in model.modules():\n",
    "    if isinstance(m, torch.nn.Linear) and m.out_features == 1000:\n",
    "        ignored_layers.append(m) # DO NOT prune the final classifier!\n",
    "\n",
    "pruner = tp.pruner.BasePruner( # We can always choose BasePruner if sparse training is not required.\n",
    "    model,\n",
    "    example_inputs, \n",
    "    importance=importance, \n",
    "    pruning_ratio=0.1, # remove 50% channels, ResNet18 = {64, 128, 256, 512} => ResNet18_Half = {32, 64, 128, 256} \n",
    "    # pruning_ratio_dict = {model.conv1: 0.2, model.layer2: 0.8}, # customized pruning ratios for layers or blocks \n",
    "    ignored_layers=ignored_layers, \n",
    "    round_to=1, # It's recommended to round dims/channels to 4x or 8x for acceleration. Please see: https://docs.nvidia.com/deeplearning/performance/dl-performance-convolutional/index.html \n",
    "    root_module_types  = (tp.ops.TORCH_CONV, tp.ops.TORCH_LINEAR) \n",
    ") \n",
    "\n",
    "# base_macs, base_nparams = tp.utils.count_ops_and_params(model, example_inputs)\n",
    "# tp.utils.print_tool.before_pruning(model) # or print(model) \n",
    "# pruner.step() \n",
    "# tp.utils.print_tool.after_pruning(model) # or print(model), this util will show the difference before and after pruning \n",
    "# macs, nparams = tp.utils.count_ops_and_params(model, example_inputs) \n",
    "# print(f\"MACs: {base_macs/1e9} G -> {macs/1e9} G, #Params: {base_nparams/1e6} M -> {nparams/1e6} M\") "
   ]
  },
  {
   "cell_type": "code",
   "execution_count": 74,
   "id": "6c047fe9",
   "metadata": {},
   "outputs": [
    {
     "name": "stdout",
     "output_type": "stream",
     "text": [
      "ConcatModel(\n",
      "  (fc): Linear(in_features=4, out_features=4, bias=True)\n",
      ")\n",
      "Linear(in_features=4, out_features=4, bias=True)\n"
     ]
    }
   ],
   "source": [
    "for m in model.modules():\n",
    "    print(m)"
   ]
  },
  {
   "cell_type": "code",
   "execution_count": 60,
   "id": "d05ce8a9",
   "metadata": {},
   "outputs": [
    {
     "data": {
      "text/plain": [
       "<bound method Module.modules of ConcatModel(\n",
       "  (fc): Linear(in_features=4, out_features=4, bias=True)\n",
       ")>"
      ]
     },
     "execution_count": 60,
     "metadata": {},
     "output_type": "execute_result"
    }
   ],
   "source": [
    "model.modules"
   ]
  },
  {
   "cell_type": "code",
   "execution_count": null,
   "id": "575df576",
   "metadata": {},
   "outputs": [
    {
     "data": {
      "text/plain": [
       "{_ElementWiseOp_0(AddBackward0): <Node: (_ElementWiseOp_0(AddBackward0))>,\n",
       " Linear(in_features=4, out_features=4, bias=True): <Node: (fc (Linear(in_features=4, out_features=4, bias=True)))>,\n",
       " Parameter containing:\n",
       " tensor([-0.6282, -0.9758, -0.3718,  0.5046], requires_grad=True): <Node: (UnwrappedParameter_1 (torch.Size([4])))>,\n",
       " _ElementWiseOp_1(AddmmBackward0): <Node: (_ElementWiseOp_1(AddmmBackward0))>,\n",
       " _Reshape_2(): <Node: (_Reshape_2())>,\n",
       " _ElementWiseOp_3(TBackward0): <Node: (_ElementWiseOp_3(TBackward0))>,\n",
       " Parameter containing:\n",
       " tensor([ 0.3962,  0.0006, -0.2464,  0.5559], requires_grad=True): <Node: (UnwrappedParameter_0 (torch.Size([4])))>}"
      ]
     },
     "execution_count": 58,
     "metadata": {},
     "output_type": "execute_result"
    }
   ],
   "source": [
    "pruner.DG.module2node "
   ]
  },
  {
   "cell_type": "code",
   "execution_count": 73,
   "id": "85a53b89",
   "metadata": {},
   "outputs": [
    {
     "name": "stdout",
     "output_type": "stream",
     "text": [
      "_ElementWiseOp_0(AddBackward0)\n",
      "---------\n",
      "Linear(in_features=4, out_features=4, bias=True)\n",
      "---------\n",
      "Parameter containing:\n",
      "tensor([-0.6282, -0.9758, -0.3718,  0.5046], requires_grad=True)\n",
      "---------\n",
      "_ElementWiseOp_1(AddmmBackward0)\n",
      "---------\n",
      "_Reshape_2()\n",
      "---------\n",
      "_ElementWiseOp_3(TBackward0)\n",
      "---------\n",
      "Parameter containing:\n",
      "tensor([ 0.3962,  0.0006, -0.2464,  0.5559], requires_grad=True)\n",
      "---------\n"
     ]
    }
   ],
   "source": [
    "for m, n in pruner.DG.module2node.items(): \n",
    "    print(n.module) \n",
    "    print(\"---------\")"
   ]
  },
  {
   "cell_type": "code",
   "execution_count": 71,
   "id": "4212871c",
   "metadata": {},
   "outputs": [
    {
     "name": "stdout",
     "output_type": "stream",
     "text": [
      "[prune_out_channels on _ElementWiseOp_0(AddBackward0) => prune_out_channels on fc (Linear(in_features=4, out_features=4, bias=True)), prune_out_channels on _ElementWiseOp_0(AddBackward0) => prune_out_channels on UnwrappedParameter_1 (torch.Size([4]))]\n",
      "---------\n",
      "[prune_in_channels on fc (Linear(in_features=4, out_features=4, bias=True)) => prune_out_channels on _ElementWiseOp_1(AddmmBackward0), prune_out_channels on fc (Linear(in_features=4, out_features=4, bias=True)) => prune_out_channels on _ElementWiseOp_0(AddBackward0)]\n",
      "---------\n",
      "[prune_out_channels on UnwrappedParameter_1 (torch.Size([4])) => prune_out_channels on _ElementWiseOp_0(AddBackward0)]\n",
      "---------\n",
      "[prune_out_channels on _ElementWiseOp_1(AddmmBackward0) => prune_out_channels on _Reshape_2(), prune_out_channels on _ElementWiseOp_1(AddmmBackward0) => prune_out_channels on _ElementWiseOp_3(TBackward0), prune_out_channels on _ElementWiseOp_1(AddmmBackward0) => prune_in_channels on fc (Linear(in_features=4, out_features=4, bias=True))]\n",
      "---------\n",
      "[prune_out_channels on _Reshape_2() => prune_out_channels on UnwrappedParameter_0 (torch.Size([4])), prune_out_channels on _Reshape_2() => prune_out_channels on _ElementWiseOp_1(AddmmBackward0)]\n",
      "---------\n",
      "[prune_out_channels on _ElementWiseOp_3(TBackward0) => prune_out_channels on _ElementWiseOp_1(AddmmBackward0)]\n",
      "---------\n",
      "[prune_out_channels on UnwrappedParameter_0 (torch.Size([4])) => prune_out_channels on _Reshape_2()]\n",
      "---------\n"
     ]
    }
   ],
   "source": [
    "for m, n in pruner.DG.module2node.items(): \n",
    "    print(n.dependencies) \n",
    "    print(\"---------\")"
   ]
  },
  {
   "cell_type": "code",
   "execution_count": 63,
   "id": "6487787c",
   "metadata": {},
   "outputs": [
    {
     "name": "stdout",
     "output_type": "stream",
     "text": [
      "[(prune_out_channels on fc (Linear(in_features=4, out_features=4, bias=True)) => prune_out_channels on fc (Linear(in_features=4, out_features=4, bias=True)), [0, 1, 2, 3]), (prune_out_channels on fc (Linear(in_features=4, out_features=4, bias=True)) => prune_out_channels on _ElementWiseOp_0(AddBackward0), [0, 1, 2, 3]), (prune_out_channels on _ElementWiseOp_0(AddBackward0) => prune_out_channels on UnwrappedParameter_1 (torch.Size([4])), [0, 1, 2, 3])]\n"
     ]
    }
   ],
   "source": [
    "for g in pruner.DG.get_all_groups(): \n",
    "    print(g._group) "
   ]
  },
  {
   "cell_type": "code",
   "execution_count": null,
   "id": "6f8e936a",
   "metadata": {},
   "outputs": [],
   "source": []
  }
 ],
 "metadata": {
  "kernelspec": {
   "display_name": "dlp",
   "language": "python",
   "name": "python3"
  },
  "language_info": {
   "codemirror_mode": {
    "name": "ipython",
    "version": 3
   },
   "file_extension": ".py",
   "mimetype": "text/x-python",
   "name": "python",
   "nbconvert_exporter": "python",
   "pygments_lexer": "ipython3",
   "version": "3.11.12"
  }
 },
 "nbformat": 4,
 "nbformat_minor": 5
}
